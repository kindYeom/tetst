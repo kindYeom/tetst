{
  "cells": [
    {
      "cell_type": "markdown",
      "metadata": {
        "id": "view-in-github",
        "colab_type": "text"
      },
      "source": [
        "<a href=\"https://colab.research.google.com/github/kindYeom/tetst/blob/main/2020202037_AI_project_1.ipynb\" target=\"_parent\"><img src=\"https://colab.research.google.com/assets/colab-badge.svg\" alt=\"Open In Colab\"/></a>"
      ]
    },
    {
      "cell_type": "markdown",
      "id": "ad491165-f0e1-4840-b549-44cd2af2379f",
      "metadata": {
        "id": "ad491165-f0e1-4840-b549-44cd2af2379f"
      },
      "source": [
        "# PCA"
      ]
    },
    {
      "cell_type": "code",
      "execution_count": null,
      "id": "47f573d8-54f6-4863-b299-bb9c30c0eec3",
      "metadata": {
        "id": "47f573d8-54f6-4863-b299-bb9c30c0eec3"
      },
      "outputs": [],
      "source": [
        "import numpy as np\n",
        "import matplotlib.pyplot as plt\n",
        "from sklearn.datasets import fetch_lfw_people\n",
        "from sklearn.model_selection import train_test_split"
      ]
    },
    {
      "cell_type": "code",
      "execution_count": null,
      "id": "4f0a3e83-df9f-4490-b15d-37d63b02e49f",
      "metadata": {
        "id": "4f0a3e83-df9f-4490-b15d-37d63b02e49f"
      },
      "outputs": [],
      "source": [
        "class PCA:\n",
        "    def __init__(self, n_components, whiten, random_state=41, gram_iter=100):\n",
        "        self.n_components = n_components\n",
        "        self.whiten = whiten\n",
        "        self.gram_iter = gram_iter#ddddd\n",
        "\n",
        "    def covariance(self,):\n",
        "        return cov\n",
        "\n",
        "    def whitening(self,):\n",
        "        return whitened_data\n",
        "\n",
        "    def gram_schmidt(self,):\n",
        "        return cov\n",
        "\n",
        "    def eig(self,):\n",
        "        return eigvalues, eigvectors\n",
        "\n",
        "    def fit(self, data):\n",
        "        return pca_output\n"
      ]
    },
    {
      "cell_type": "code",
      "execution_count": null,
      "id": "8d5f4b8b-ab4d-4f74-8329-df87caac68cc",
      "metadata": {
        "colab": {
          "base_uri": "https://localhost:8080/"
        },
        "id": "8d5f4b8b-ab4d-4f74-8329-df87caac68cc",
        "outputId": "f7bd9055-60d0-4a7c-b110-6aea8cb10532"
      },
      "outputs": [
        {
          "output_type": "stream",
          "name": "stdout",
          "text": [
            "dataset keys        :  dict_keys(['data', 'images', 'target', 'target_names', 'DESCR'])\n",
            "dataset.images shape:  (1140, 62, 47)\n",
            "dataset.data shape  :  (1140, 2914)\n",
            "dataset.target shape:  (1140,)\n"
          ]
        }
      ],
      "source": [
        "people = fetch_lfw_people(min_faces_per_person=100, resize=0.5)\n",
        "image_shape = people.images[0].shape\n",
        "print(\"dataset keys        : \", people.keys())\n",
        "print(\"dataset.images shape: \", people.images.shape)\n",
        "print(\"dataset.data shape  : \", people.data.shape)\n",
        "print(\"dataset.target shape: \", people.target.shape)"
      ]
    },
    {
      "cell_type": "code",
      "execution_count": null,
      "id": "48649fb4-ef02-4985-ac89-b5943a3828ff",
      "metadata": {
        "scrolled": true,
        "id": "48649fb4-ef02-4985-ac89-b5943a3828ff"
      },
      "outputs": [],
      "source": [
        "pca = PCA(200, False)\n",
        "n_component_data = pca.fit(people.data)\n",
        "pca_w = PCA(200, True)\n",
        "n_component_data_w = pca_w.fit(people.data)\n",
        "X_train, X_test, y_train, y_test = train_test_split(n_component_data, people.target, test_size=0.25, random_state=41)\n",
        "X_train_w, X_test_w, y_train_w, y_test_w = train_test_split(n_component_data_w, people.target, test_size=0.25, random_state=41)"
      ]
    },
    {
      "cell_type": "markdown",
      "id": "8238e849-2e04-4130-8ae4-392d536f0f1d",
      "metadata": {
        "id": "8238e849-2e04-4130-8ae4-392d536f0f1d"
      },
      "source": [
        "# KNN"
      ]
    },
    {
      "cell_type": "code",
      "execution_count": null,
      "id": "8dcaaeae-e6b1-4259-aa78-8a32af2e0f2e",
      "metadata": {
        "id": "8dcaaeae-e6b1-4259-aa78-8a32af2e0f2e"
      },
      "outputs": [],
      "source": [
        "from sklearn.neighbors import KNeighborsClassifier as knc"
      ]
    },
    {
      "cell_type": "code",
      "execution_count": null,
      "id": "d8b3e4ab-a1a2-427c-bdf1-3a3e0bac2b8b",
      "metadata": {
        "id": "d8b3e4ab-a1a2-427c-bdf1-3a3e0bac2b8b"
      },
      "outputs": [],
      "source": [
        "knn = knc(n_neighbors=1)\n",
        "knn_w = knc(n_neighbors=1)"
      ]
    },
    {
      "cell_type": "code",
      "execution_count": null,
      "id": "5ad21c6f-07a7-4741-b1b0-ffc85b381357",
      "metadata": {
        "id": "5ad21c6f-07a7-4741-b1b0-ffc85b381357"
      },
      "outputs": [],
      "source": [
        "knn.fit(X_train, y_train)\n",
        "knn_w.fit(X_train_w, y_train_w)"
      ]
    },
    {
      "cell_type": "code",
      "execution_count": null,
      "id": "f5cf611e-1ea3-44d3-a849-80006c48e9c8",
      "metadata": {
        "id": "f5cf611e-1ea3-44d3-a849-80006c48e9c8"
      },
      "outputs": [],
      "source": [
        "y_pred = knn.predict(X_test)\n",
        "y_pred_w = knn_w.predict(X_test_w)"
      ]
    },
    {
      "cell_type": "markdown",
      "id": "6f152694-8e35-4736-9b2b-5236588f9dc4",
      "metadata": {
        "id": "6f152694-8e35-4736-9b2b-5236588f9dc4"
      },
      "source": [
        "# Results\n",
        "#### -F1 score를 각 채점 항목 별로 출력하면 됩니다"
      ]
    },
    {
      "cell_type": "code",
      "execution_count": null,
      "id": "558c4239-da40-4adf-b34f-32248d7ccd63",
      "metadata": {
        "id": "558c4239-da40-4adf-b34f-32248d7ccd63"
      },
      "outputs": [],
      "source": [
        "from sklearn.metrics import f1_score"
      ]
    },
    {
      "cell_type": "code",
      "execution_count": null,
      "id": "fcf8bc07-c88d-4a5f-a0b9-94374a4c9c34",
      "metadata": {
        "id": "fcf8bc07-c88d-4a5f-a0b9-94374a4c9c34"
      },
      "outputs": [],
      "source": [
        "print(f\"Naive PCA: {f1_score(y_test, y_pred)}\\nWhitening PCA: {f1_score(y_test_w, y_pred_w)}\")"
      ]
    }
  ],
  "metadata": {
    "kernelspec": {
      "display_name": "gen",
      "language": "python",
      "name": "gen"
    },
    "language_info": {
      "codemirror_mode": {
        "name": "ipython",
        "version": 3
      },
      "file_extension": ".py",
      "mimetype": "text/x-python",
      "name": "python",
      "nbconvert_exporter": "python",
      "pygments_lexer": "ipython3",
      "version": "3.11.0"
    },
    "colab": {
      "provenance": [],
      "toc_visible": true,
      "include_colab_link": true
    }
  },
  "nbformat": 4,
  "nbformat_minor": 5
}