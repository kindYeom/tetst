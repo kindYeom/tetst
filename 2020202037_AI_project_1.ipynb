{
  "cells": [
    {
      "cell_type": "markdown",
      "metadata": {
        "id": "view-in-github",
        "colab_type": "text"
      },
      "source": [
        "<a href=\"https://colab.research.google.com/github/kindYeom/tetst/blob/main/2020202037_AI_project_1.ipynb\" target=\"_parent\"><img src=\"https://colab.research.google.com/assets/colab-badge.svg\" alt=\"Open In Colab\"/></a>"
      ]
    },
    {
      "cell_type": "markdown",
      "id": "ad491165-f0e1-4840-b549-44cd2af2379f",
      "metadata": {
        "id": "ad491165-f0e1-4840-b549-44cd2af2379f"
      },
      "source": [
        "# PCA"
      ]
    },
    {
      "cell_type": "code",
      "execution_count": 10,
      "id": "47f573d8-54f6-4863-b299-bb9c30c0eec3",
      "metadata": {
        "id": "47f573d8-54f6-4863-b299-bb9c30c0eec3"
      },
      "outputs": [],
      "source": [
        "import numpy as np\n",
        "import matplotlib.pyplot as plt\n",
        "from sklearn.datasets import fetch_lfw_people\n",
        "from sklearn.model_selection import train_test_split"
      ]
    },
    {
      "cell_type": "code",
      "execution_count": 11,
      "id": "4f0a3e83-df9f-4490-b15d-37d63b02e49f",
      "metadata": {
        "id": "4f0a3e83-df9f-4490-b15d-37d63b02e49f"
      },
      "outputs": [],
      "source": [
        "class PCA:\n",
        "    def __init__(self, n_components, whiten, random_state=41, gram_iter=100):\n",
        "        self.n_components = n_components\n",
        "        self.whiten = whiten\n",
        "        self.gram_iter = gram_iter\n",
        "\n",
        "    def covariance(self,data):\n",
        "        mean = np.mean(people.data,axis = 0)\n",
        "\n",
        "        centered_data = people.data - mean\n",
        "\n",
        "        cov = np.dot(centered_data.T, centered_data) / (centered_data.shape[0] - 1)\n",
        "\n",
        "        return cov\n",
        "\n",
        "    def whitening(self,):\n",
        "        return whitened_data\n",
        "\n",
        "    def gram_schmidt(self,):\n",
        "        return cov\n",
        "\n",
        "    def eig(self,):\n",
        "        return eigvalues, eigvectors\n",
        "\n",
        "    def fit(self, data):\n",
        "        return pca_output\n"
      ]
    },
    {
      "cell_type": "code",
      "execution_count": 17,
      "id": "8d5f4b8b-ab4d-4f74-8329-df87caac68cc",
      "metadata": {
        "colab": {
          "base_uri": "https://localhost:8080/"
        },
        "id": "8d5f4b8b-ab4d-4f74-8329-df87caac68cc",
        "outputId": "4d333e51-585d-493a-8395-4f38d218af3a"
      },
      "outputs": [
        {
          "output_type": "stream",
          "name": "stdout",
          "text": [
            "dataset keys        :  dict_keys(['data', 'images', 'target', 'target_names', 'DESCR'])\n",
            "dataset.images shape:  (1140, 62, 47)\n",
            "dataset.data shape  :  (1140, 2914)\n",
            "dataset.target shape:  (1140,)\n",
            "Are the covariance matrices equal?  True\n"
          ]
        }
      ],
      "source": [
        "people = fetch_lfw_people(min_faces_per_person=100, resize=0.5)\n",
        "image_shape = people.images[0].shape\n",
        "print(\"dataset keys        : \", people.keys())\n",
        "print(\"dataset.images shape: \", people.images.shape)\n",
        "print(\"dataset.data shape  : \", people.data.shape)\n",
        "print(\"dataset.target shape: \", people.target.shape)"
      ]
    },
    {
      "cell_type": "code",
      "execution_count": null,
      "id": "48649fb4-ef02-4985-ac89-b5943a3828ff",
      "metadata": {
        "scrolled": true,
        "id": "48649fb4-ef02-4985-ac89-b5943a3828ff",
        "colab": {
          "base_uri": "https://localhost:8080/",
          "height": 305
        },
        "outputId": "156bb5ec-6ac2-4882-a2fe-b6e9f22d263b",
        "collapsed": true
      },
      "outputs": [
        {
          "output_type": "error",
          "ename": "NameError",
          "evalue": "name 'pca_output' is not defined",
          "traceback": [
            "\u001b[0;31m---------------------------------------------------------------------------\u001b[0m",
            "\u001b[0;31mNameError\u001b[0m                                 Traceback (most recent call last)",
            "\u001b[0;32m<ipython-input-14-ff5003c8e8b6>\u001b[0m in \u001b[0;36m<cell line: 2>\u001b[0;34m()\u001b[0m\n\u001b[1;32m      1\u001b[0m \u001b[0mpca\u001b[0m \u001b[0;34m=\u001b[0m \u001b[0mPCA\u001b[0m\u001b[0;34m(\u001b[0m\u001b[0;36m200\u001b[0m\u001b[0;34m,\u001b[0m \u001b[0;32mFalse\u001b[0m\u001b[0;34m)\u001b[0m\u001b[0;34m\u001b[0m\u001b[0;34m\u001b[0m\u001b[0m\n\u001b[0;32m----> 2\u001b[0;31m \u001b[0mn_component_data\u001b[0m \u001b[0;34m=\u001b[0m \u001b[0mpca\u001b[0m\u001b[0;34m.\u001b[0m\u001b[0mfit\u001b[0m\u001b[0;34m(\u001b[0m\u001b[0mpeople\u001b[0m\u001b[0;34m.\u001b[0m\u001b[0mdata\u001b[0m\u001b[0;34m)\u001b[0m\u001b[0;34m\u001b[0m\u001b[0;34m\u001b[0m\u001b[0m\n\u001b[0m\u001b[1;32m      3\u001b[0m \u001b[0mpca_w\u001b[0m \u001b[0;34m=\u001b[0m \u001b[0mPCA\u001b[0m\u001b[0;34m(\u001b[0m\u001b[0;36m200\u001b[0m\u001b[0;34m,\u001b[0m \u001b[0;32mTrue\u001b[0m\u001b[0;34m)\u001b[0m\u001b[0;34m\u001b[0m\u001b[0;34m\u001b[0m\u001b[0m\n\u001b[1;32m      4\u001b[0m \u001b[0mn_component_data_w\u001b[0m \u001b[0;34m=\u001b[0m \u001b[0mpca_w\u001b[0m\u001b[0;34m.\u001b[0m\u001b[0mfit\u001b[0m\u001b[0;34m(\u001b[0m\u001b[0mpeople\u001b[0m\u001b[0;34m.\u001b[0m\u001b[0mdata\u001b[0m\u001b[0;34m)\u001b[0m\u001b[0;34m\u001b[0m\u001b[0;34m\u001b[0m\u001b[0m\n\u001b[1;32m      5\u001b[0m \u001b[0mX_train\u001b[0m\u001b[0;34m,\u001b[0m \u001b[0mX_test\u001b[0m\u001b[0;34m,\u001b[0m \u001b[0my_train\u001b[0m\u001b[0;34m,\u001b[0m \u001b[0my_test\u001b[0m \u001b[0;34m=\u001b[0m \u001b[0mtrain_test_split\u001b[0m\u001b[0;34m(\u001b[0m\u001b[0mn_component_data\u001b[0m\u001b[0;34m,\u001b[0m \u001b[0mpeople\u001b[0m\u001b[0;34m.\u001b[0m\u001b[0mtarget\u001b[0m\u001b[0;34m,\u001b[0m \u001b[0mtest_size\u001b[0m\u001b[0;34m=\u001b[0m\u001b[0;36m0.25\u001b[0m\u001b[0;34m,\u001b[0m \u001b[0mrandom_state\u001b[0m\u001b[0;34m=\u001b[0m\u001b[0;36m41\u001b[0m\u001b[0;34m)\u001b[0m\u001b[0;34m\u001b[0m\u001b[0;34m\u001b[0m\u001b[0m\n",
            "\u001b[0;32m<ipython-input-8-637a06e47404>\u001b[0m in \u001b[0;36mfit\u001b[0;34m(self, data)\u001b[0m\n\u001b[1;32m     18\u001b[0m \u001b[0;34m\u001b[0m\u001b[0m\n\u001b[1;32m     19\u001b[0m     \u001b[0;32mdef\u001b[0m \u001b[0mfit\u001b[0m\u001b[0;34m(\u001b[0m\u001b[0mself\u001b[0m\u001b[0;34m,\u001b[0m \u001b[0mdata\u001b[0m\u001b[0;34m)\u001b[0m\u001b[0;34m:\u001b[0m\u001b[0;34m\u001b[0m\u001b[0;34m\u001b[0m\u001b[0m\n\u001b[0;32m---> 20\u001b[0;31m         \u001b[0;32mreturn\u001b[0m \u001b[0mpca_output\u001b[0m\u001b[0;34m\u001b[0m\u001b[0;34m\u001b[0m\u001b[0m\n\u001b[0m",
            "\u001b[0;31mNameError\u001b[0m: name 'pca_output' is not defined"
          ]
        }
      ],
      "source": [
        "pca = PCA(200, False)\n",
        "n_component_data = pca.fit(people.data)\n",
        "pca_w = PCA(200, True)\n",
        "n_component_data_w = pca_w.fit(people.data)\n",
        "X_train, X_test, y_train, y_test = train_test_split(n_component_data, people.target, test_size=0.25, random_state=41)\n",
        "X_train_w, X_test_w, y_train_w, y_test_w = train_test_split(n_component_data_w, people.target, test_size=0.25, random_state=41)"
      ]
    },
    {
      "cell_type": "markdown",
      "id": "8238e849-2e04-4130-8ae4-392d536f0f1d",
      "metadata": {
        "id": "8238e849-2e04-4130-8ae4-392d536f0f1d"
      },
      "source": [
        "# KNN"
      ]
    },
    {
      "cell_type": "code",
      "execution_count": null,
      "id": "8dcaaeae-e6b1-4259-aa78-8a32af2e0f2e",
      "metadata": {
        "id": "8dcaaeae-e6b1-4259-aa78-8a32af2e0f2e"
      },
      "outputs": [],
      "source": [
        "from sklearn.neighbors import KNeighborsClassifier as knc"
      ]
    },
    {
      "cell_type": "code",
      "execution_count": null,
      "id": "d8b3e4ab-a1a2-427c-bdf1-3a3e0bac2b8b",
      "metadata": {
        "id": "d8b3e4ab-a1a2-427c-bdf1-3a3e0bac2b8b"
      },
      "outputs": [],
      "source": [
        "knn = knc(n_neighbors=1)\n",
        "knn_w = knc(n_neighbors=1)"
      ]
    },
    {
      "cell_type": "code",
      "execution_count": null,
      "id": "5ad21c6f-07a7-4741-b1b0-ffc85b381357",
      "metadata": {
        "id": "5ad21c6f-07a7-4741-b1b0-ffc85b381357"
      },
      "outputs": [],
      "source": [
        "knn.fit(X_train, y_train)\n",
        "knn_w.fit(X_train_w, y_train_w)"
      ]
    },
    {
      "cell_type": "code",
      "execution_count": null,
      "id": "f5cf611e-1ea3-44d3-a849-80006c48e9c8",
      "metadata": {
        "id": "f5cf611e-1ea3-44d3-a849-80006c48e9c8"
      },
      "outputs": [],
      "source": [
        "y_pred = knn.predict(X_test)\n",
        "y_pred_w = knn_w.predict(X_test_w)"
      ]
    },
    {
      "cell_type": "markdown",
      "id": "6f152694-8e35-4736-9b2b-5236588f9dc4",
      "metadata": {
        "id": "6f152694-8e35-4736-9b2b-5236588f9dc4"
      },
      "source": [
        "# Results\n",
        "#### -F1 score를 각 채점 항목 별로 출력하면 됩니다"
      ]
    },
    {
      "cell_type": "code",
      "execution_count": null,
      "id": "558c4239-da40-4adf-b34f-32248d7ccd63",
      "metadata": {
        "id": "558c4239-da40-4adf-b34f-32248d7ccd63"
      },
      "outputs": [],
      "source": [
        "from sklearn.metrics import f1_score"
      ]
    },
    {
      "cell_type": "code",
      "execution_count": null,
      "id": "fcf8bc07-c88d-4a5f-a0b9-94374a4c9c34",
      "metadata": {
        "id": "fcf8bc07-c88d-4a5f-a0b9-94374a4c9c34"
      },
      "outputs": [],
      "source": [
        "print(f\"Naive PCA: {f1_score(y_test, y_pred)}\\nWhitening PCA: {f1_score(y_test_w, y_pred_w)}\")"
      ]
    }
  ],
  "metadata": {
    "kernelspec": {
      "display_name": "gen",
      "language": "python",
      "name": "gen"
    },
    "language_info": {
      "codemirror_mode": {
        "name": "ipython",
        "version": 3
      },
      "file_extension": ".py",
      "mimetype": "text/x-python",
      "name": "python",
      "nbconvert_exporter": "python",
      "pygments_lexer": "ipython3",
      "version": "3.11.0"
    },
    "colab": {
      "provenance": [],
      "include_colab_link": true
    }
  },
  "nbformat": 4,
  "nbformat_minor": 5
}